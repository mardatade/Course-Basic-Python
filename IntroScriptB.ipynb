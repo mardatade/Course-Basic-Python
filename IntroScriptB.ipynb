{
 "cells": [
  {
   "cell_type": "code",
   "execution_count": 1,
   "metadata": {},
   "outputs": [],
   "source": [
    "\"\"\" Python Example for the MarDATA Block course\n",
    "\n",
    "Content:\n",
    "- pass methods to somewhere\n",
    "- mutable/immutable objects\n",
    "\"\"\"\n",
    "\n",
    "\n",
    "def build_pairs(group_one: list, group_two: list = [3, 4]) -> list:  # mutable argument\n",
    "    \"\"\" Combines to list\n",
    "\n",
    "    :param group_one:\n",
    "    :param group_two:\n",
    "    :return: list with all combinations from group_one and group_two\n",
    "    \"\"\"\n",
    "\n",
    "    assert isinstance(group_one, list)\n",
    "    assert isinstance(group_two, list)\n",
    "\n",
    "    result_list = [(element_a, element_b) for element_a in group_one for element_b in group_two]  # inline for loop\n",
    "\n",
    "    group_two[0] = 5\n",
    "\n",
    "    return result_list   "
   ]
  },
  {
   "cell_type": "code",
   "execution_count": 2,
   "metadata": {},
   "outputs": [
    {
     "name": "stdout",
     "output_type": "stream",
     "text": [
      "[('a', 3), ('a', 4), ('b', 3), ('b', 4)]\n",
      "[('a', 5), ('a', 4), ('b', 5), ('b', 4)]\n"
     ]
    }
   ],
   "source": [
    "bad_name_for_a_method = build_pairs\n",
    "\n",
    "list_input = [3, 4]\n",
    "print(bad_name_for_a_method(group_one=['a', 'b'], group_two=list_input))\n",
    "print(bad_name_for_a_method(group_one=['a', 'b'], group_two=list_input))"
   ]
  },
  {
   "cell_type": "code",
   "execution_count": 3,
   "metadata": {},
   "outputs": [
    {
     "name": "stdout",
     "output_type": "stream",
     "text": [
      "[('a', 3), ('a', 4), ('b', 3), ('b', 4)]\n",
      "[('a', 5), ('a', 4), ('b', 5), ('b', 4)]\n"
     ]
    }
   ],
   "source": [
    "print(bad_name_for_a_method(group_one=['a', 'b']))\n",
    "print(bad_name_for_a_method(group_one=['a', 'b']))"
   ]
  },
  {
   "cell_type": "code",
   "execution_count": null,
   "metadata": {},
   "outputs": [],
   "source": []
  }
 ],
 "metadata": {
  "kernelspec": {
   "display_name": "Python 3",
   "language": "python",
   "name": "python3"
  },
  "language_info": {
   "codemirror_mode": {
    "name": "ipython",
    "version": 3
   },
   "file_extension": ".py",
   "mimetype": "text/x-python",
   "name": "python",
   "nbconvert_exporter": "python",
   "pygments_lexer": "ipython3",
   "version": "3.6.9"
  }
 },
 "nbformat": 4,
 "nbformat_minor": 2
}
